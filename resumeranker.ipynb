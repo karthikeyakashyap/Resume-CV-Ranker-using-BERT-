{
 "cells": [
  {
   "cell_type": "code",
   "execution_count": 8,
   "id": "5047e0be-e4db-4fb1-94a5-6abbda759c77",
   "metadata": {},
   "outputs": [],
   "source": [
    "import pandas as pd\n",
    "\n",
    "# Example JD\n",
    "job_description = \"\"\"We are hiring a data scientist with experience in Python, Machine Learning, and NLP.\"\"\"\n",
    "\n",
    "# Example list of resumes (in real-world, load from files)\n",
    "resumes = [\n",
    "    \"Experienced in Python and deep learning with a strong ML background.\",\n",
    "    \"Front-end developer with React and UI/UX skills.\",\n",
    "    \"Data scientist with NLP and ML expertise. Worked on resume matching.\",\n",
    "    \"HR professional with recruitment and hiring experience.\"\n",
    "]\n",
    "\n",
    "df = pd.DataFrame({'resume_text': resumes})\n"
   ]
  },
  {
   "cell_type": "code",
   "execution_count": 16,
   "id": "7faab176-78f6-412c-88cd-b370c489e918",
   "metadata": {},
   "outputs": [],
   "source": [
    "from sentence_transformers import SentenceTransformer\n",
    "\n",
    "# Load pre-trained sentence-transformer model (based on BERT/DistilBERT)\n",
    "model = SentenceTransformer('all-MiniLM-L6-v2')\n",
    "\n",
    "# Encode job description and resumes into embeddings\n",
    "jd_embedding = model.encode([job_description])\n",
    "resume_embeddings = model.encode(df['resume_text'].tolist())\n"
   ]
  },
  {
   "cell_type": "code",
   "execution_count": 18,
   "id": "12cd8f33-434c-4839-b40a-905d77577c03",
   "metadata": {},
   "outputs": [
    {
     "data": {
      "text/html": [
       "<div>\n",
       "<style scoped>\n",
       "    .dataframe tbody tr th:only-of-type {\n",
       "        vertical-align: middle;\n",
       "    }\n",
       "\n",
       "    .dataframe tbody tr th {\n",
       "        vertical-align: top;\n",
       "    }\n",
       "\n",
       "    .dataframe thead th {\n",
       "        text-align: right;\n",
       "    }\n",
       "</style>\n",
       "<table border=\"1\" class=\"dataframe\">\n",
       "  <thead>\n",
       "    <tr style=\"text-align: right;\">\n",
       "      <th></th>\n",
       "      <th>resume_text</th>\n",
       "      <th>similarity</th>\n",
       "    </tr>\n",
       "  </thead>\n",
       "  <tbody>\n",
       "    <tr>\n",
       "      <th>2</th>\n",
       "      <td>Data scientist with NLP and ML expertise. Work...</td>\n",
       "      <td>0.740875</td>\n",
       "    </tr>\n",
       "    <tr>\n",
       "      <th>0</th>\n",
       "      <td>Experienced in Python and deep learning with a...</td>\n",
       "      <td>0.514766</td>\n",
       "    </tr>\n",
       "    <tr>\n",
       "      <th>3</th>\n",
       "      <td>HR professional with recruitment and hiring ex...</td>\n",
       "      <td>0.506790</td>\n",
       "    </tr>\n",
       "    <tr>\n",
       "      <th>1</th>\n",
       "      <td>Front-end developer with React and UI/UX skills.</td>\n",
       "      <td>0.336791</td>\n",
       "    </tr>\n",
       "  </tbody>\n",
       "</table>\n",
       "</div>"
      ],
      "text/plain": [
       "                                         resume_text  similarity\n",
       "2  Data scientist with NLP and ML expertise. Work...    0.740875\n",
       "0  Experienced in Python and deep learning with a...    0.514766\n",
       "3  HR professional with recruitment and hiring ex...    0.506790\n",
       "1   Front-end developer with React and UI/UX skills.    0.336791"
      ]
     },
     "execution_count": 18,
     "metadata": {},
     "output_type": "execute_result"
    }
   ],
   "source": [
    "from sklearn.metrics.pairwise import cosine_similarity\n",
    "\n",
    "# Compare each resume to the job description\n",
    "similarity_scores = cosine_similarity(jd_embedding, resume_embeddings)[0]\n",
    "\n",
    "# Add similarity scores to the DataFrame\n",
    "df['similarity'] = similarity_scores\n",
    "\n",
    "# Sort by highest similarity\n",
    "df_sorted = df.sort_values(by='similarity', ascending=False)\n",
    "df_sorted\n"
   ]
  },
  {
   "cell_type": "code",
   "execution_count": null,
   "id": "bfb6a0b6-8b8f-4654-b683-59608b80894e",
   "metadata": {},
   "outputs": [],
   "source": []
  }
 ],
 "metadata": {
  "kernelspec": {
   "display_name": "Python 3 (ipykernel)",
   "language": "python",
   "name": "python3"
  },
  "language_info": {
   "codemirror_mode": {
    "name": "ipython",
    "version": 3
   },
   "file_extension": ".py",
   "mimetype": "text/x-python",
   "name": "python",
   "nbconvert_exporter": "python",
   "pygments_lexer": "ipython3",
   "version": "3.12.3"
  }
 },
 "nbformat": 4,
 "nbformat_minor": 5
}
